{
 "cells": [
  {
   "cell_type": "markdown",
   "id": "a2d62123",
   "metadata": {},
   "source": [
    "# Tree"
   ]
  },
  {
   "cell_type": "markdown",
   "id": "897d2ed6",
   "metadata": {},
   "source": [
    "![](imgs/tree.png)"
   ]
  },
  {
   "cell_type": "code",
   "execution_count": 1,
   "id": "b4695ceb",
   "metadata": {},
   "outputs": [],
   "source": [
    "class Node:\n",
    "    def __init__(self, key):\n",
    "        self.key = key\n",
    "        self.left = None\n",
    "        self.right = None\n",
    "        self.p = None"
   ]
  },
  {
   "cell_type": "code",
   "execution_count": 2,
   "id": "bfae4f78",
   "metadata": {},
   "outputs": [],
   "source": [
    "class Tree:\n",
    "    def __init__(self, key=None):\n",
    "        self.root = key"
   ]
  },
  {
   "cell_type": "markdown",
   "id": "65dd3141",
   "metadata": {},
   "source": [
    "# Insertion"
   ]
  },
  {
   "cell_type": "markdown",
   "id": "7f196a31",
   "metadata": {},
   "source": [
    "![](imgs/insertion.png)"
   ]
  },
  {
   "cell_type": "code",
   "execution_count": 3,
   "id": "0cc80fb2",
   "metadata": {},
   "outputs": [],
   "source": [
    "def insert(T: Tree, z: Node) -> None:\n",
    "    x = T.root\n",
    "    y = None\n",
    "    while x != None:\n",
    "        y = x\n",
    "        if z.key < x.key:\n",
    "            x = x.left\n",
    "        else:\n",
    "            x = x.right\n",
    "    z.p = y\n",
    "    if y == None:\n",
    "        T.root = z\n",
    "    elif z.key < y.key:\n",
    "        y.left = z\n",
    "    else:\n",
    "        y.right = z"
   ]
  },
  {
   "cell_type": "code",
   "execution_count": 38,
   "id": "b7b7c914",
   "metadata": {},
   "outputs": [],
   "source": [
    "t = Tree()"
   ]
  },
  {
   "cell_type": "code",
   "execution_count": 39,
   "id": "99c3ef9e",
   "metadata": {},
   "outputs": [],
   "source": [
    "insert(t, Node(6))"
   ]
  },
  {
   "cell_type": "code",
   "execution_count": 40,
   "id": "fbfbb2d2",
   "metadata": {},
   "outputs": [
    {
     "data": {
      "text/plain": [
       "6"
      ]
     },
     "execution_count": 40,
     "metadata": {},
     "output_type": "execute_result"
    }
   ],
   "source": [
    "t.root.key"
   ]
  },
  {
   "cell_type": "code",
   "execution_count": 41,
   "id": "0af63651",
   "metadata": {},
   "outputs": [],
   "source": [
    "insert(t, Node(5))"
   ]
  },
  {
   "cell_type": "code",
   "execution_count": 42,
   "id": "ac1c77f0",
   "metadata": {},
   "outputs": [
    {
     "data": {
      "text/plain": [
       "5"
      ]
     },
     "execution_count": 42,
     "metadata": {},
     "output_type": "execute_result"
    }
   ],
   "source": [
    "t.root.left.key"
   ]
  },
  {
   "cell_type": "code",
   "execution_count": 43,
   "id": "4f156d82",
   "metadata": {},
   "outputs": [],
   "source": [
    "insert(t, Node(7))"
   ]
  },
  {
   "cell_type": "code",
   "execution_count": 44,
   "id": "95b9a0ef",
   "metadata": {},
   "outputs": [
    {
     "data": {
      "text/plain": [
       "7"
      ]
     },
     "execution_count": 44,
     "metadata": {},
     "output_type": "execute_result"
    }
   ],
   "source": [
    "t.root.right.key"
   ]
  },
  {
   "cell_type": "code",
   "execution_count": 45,
   "id": "ea568f87",
   "metadata": {},
   "outputs": [],
   "source": [
    "insert(t, Node(2))\n",
    "insert(t, Node(5))\n",
    "insert(t, Node(8))"
   ]
  },
  {
   "cell_type": "markdown",
   "id": "aa5b6e6f",
   "metadata": {},
   "source": [
    "# Inorder tree walk"
   ]
  },
  {
   "cell_type": "markdown",
   "id": "e1dd8c2a",
   "metadata": {},
   "source": [
    "![](imgs/inorder_tree_walk.png)"
   ]
  },
  {
   "cell_type": "code",
   "execution_count": 46,
   "id": "3e1937b5",
   "metadata": {},
   "outputs": [],
   "source": [
    "def inorder_tree_walk(node):\n",
    "    if node != None:\n",
    "        inorder_tree_walk(node.left)\n",
    "        print(node.key)\n",
    "        inorder_tree_walk(node.right)"
   ]
  },
  {
   "cell_type": "code",
   "execution_count": 47,
   "id": "498da9b5",
   "metadata": {},
   "outputs": [
    {
     "name": "stdout",
     "output_type": "stream",
     "text": [
      "2\n",
      "5\n",
      "5\n",
      "6\n",
      "7\n",
      "8\n"
     ]
    }
   ],
   "source": [
    "inorder_tree_walk(t.root)"
   ]
  },
  {
   "cell_type": "markdown",
   "id": "a4b968a8",
   "metadata": {},
   "source": [
    "# Queries"
   ]
  },
  {
   "cell_type": "markdown",
   "id": "16993ec5",
   "metadata": {},
   "source": [
    "## search\n",
    "\n",
    "![](imgs/search-tree.png)"
   ]
  },
  {
   "cell_type": "code",
   "execution_count": 14,
   "id": "14cab80b",
   "metadata": {},
   "outputs": [],
   "source": [
    "def tree_search(x: Node, k: float) -> Node | None:\n",
    "    if x == None or k == x.key:\n",
    "        return x\n",
    "    elif k < x.key:\n",
    "        return tree_search(x.left, k)\n",
    "    else:\n",
    "        return tree_search(x.right, k)"
   ]
  },
  {
   "cell_type": "code",
   "execution_count": 15,
   "id": "1ecdc021",
   "metadata": {},
   "outputs": [],
   "source": [
    "def tree_search_iter(x: Node, k: float) -> Node | None:\n",
    "    while x != None and k != x.key:\n",
    "        if k < x.key:\n",
    "            x = x.left\n",
    "        else:\n",
    "            x = x.right\n",
    "    return x"
   ]
  },
  {
   "cell_type": "code",
   "execution_count": 16,
   "id": "b42441de",
   "metadata": {},
   "outputs": [
    {
     "data": {
      "text/plain": [
       "7"
      ]
     },
     "execution_count": 16,
     "metadata": {},
     "output_type": "execute_result"
    }
   ],
   "source": [
    "node = tree_search(x=t.root, k=7)\n",
    "node.key"
   ]
  },
  {
   "cell_type": "code",
   "execution_count": 17,
   "id": "e449ac18",
   "metadata": {},
   "outputs": [],
   "source": [
    "node = tree_search(x=t.root, k=200)\n",
    "node"
   ]
  },
  {
   "cell_type": "code",
   "execution_count": 18,
   "id": "56134f05",
   "metadata": {},
   "outputs": [
    {
     "data": {
      "text/plain": [
       "8"
      ]
     },
     "execution_count": 18,
     "metadata": {},
     "output_type": "execute_result"
    }
   ],
   "source": [
    "node = tree_search_iter(x=t.root, k=8)\n",
    "node.key"
   ]
  },
  {
   "cell_type": "code",
   "execution_count": 19,
   "id": "20d2ce7e",
   "metadata": {},
   "outputs": [],
   "source": [
    "node = tree_search_iter(x=t.root, k=200)\n",
    "node"
   ]
  },
  {
   "cell_type": "markdown",
   "id": "1f9bde9a",
   "metadata": {},
   "source": [
    "## Minimum"
   ]
  },
  {
   "cell_type": "code",
   "execution_count": 20,
   "id": "42074249",
   "metadata": {},
   "outputs": [],
   "source": [
    "def minimum(node: Node) -> Node:\n",
    "    while node.left != None:\n",
    "        node = node.left\n",
    "    return node"
   ]
  },
  {
   "cell_type": "code",
   "execution_count": 21,
   "id": "24491c02",
   "metadata": {},
   "outputs": [
    {
     "data": {
      "text/plain": [
       "2"
      ]
     },
     "execution_count": 21,
     "metadata": {},
     "output_type": "execute_result"
    }
   ],
   "source": [
    "minimum(t.root).key"
   ]
  },
  {
   "cell_type": "code",
   "execution_count": 22,
   "id": "b2aa4c04",
   "metadata": {},
   "outputs": [
    {
     "data": {
      "text/plain": [
       "7"
      ]
     },
     "execution_count": 22,
     "metadata": {},
     "output_type": "execute_result"
    }
   ],
   "source": [
    "minimum(t.root.right).key"
   ]
  },
  {
   "cell_type": "markdown",
   "id": "36d84f3d",
   "metadata": {},
   "source": [
    "## Maximum"
   ]
  },
  {
   "cell_type": "code",
   "execution_count": 23,
   "id": "aaa06829",
   "metadata": {},
   "outputs": [],
   "source": [
    "def maximum(node: Node) -> Node:\n",
    "    while node.right != None:\n",
    "        node = node.right\n",
    "    return node"
   ]
  },
  {
   "cell_type": "code",
   "execution_count": 24,
   "id": "ff732a6f",
   "metadata": {},
   "outputs": [
    {
     "data": {
      "text/plain": [
       "8"
      ]
     },
     "execution_count": 24,
     "metadata": {},
     "output_type": "execute_result"
    }
   ],
   "source": [
    "maximum(t.root).key"
   ]
  },
  {
   "cell_type": "code",
   "execution_count": 25,
   "id": "70439ffc",
   "metadata": {},
   "outputs": [
    {
     "data": {
      "text/plain": [
       "6"
      ]
     },
     "execution_count": 25,
     "metadata": {},
     "output_type": "execute_result"
    }
   ],
   "source": [
    "t.root.right.p.key"
   ]
  },
  {
   "cell_type": "markdown",
   "id": "87b6e1b3",
   "metadata": {},
   "source": [
    "# Successor\n",
    "\n",
    "![](imgs/tree-successor.png)"
   ]
  },
  {
   "cell_type": "code",
   "execution_count": 62,
   "id": "2a16035b",
   "metadata": {},
   "outputs": [],
   "source": [
    "def tree_successor(x: Node) -> Node | None:\n",
    "    if x.right != None:\n",
    "        return minimum(x.right)\n",
    "    else:\n",
    "        y = x.p\n",
    "        while y != None and x == y.right: # the lowest ancestor of x whose left child is also ancestor of x\n",
    "            x = y\n",
    "            y = y.p\n",
    "        return y"
   ]
  },
  {
   "cell_type": "code",
   "execution_count": 27,
   "id": "ef301980",
   "metadata": {},
   "outputs": [
    {
     "data": {
      "text/plain": [
       "7"
      ]
     },
     "execution_count": 27,
     "metadata": {},
     "output_type": "execute_result"
    }
   ],
   "source": [
    "tree_successor(x=t.root).key"
   ]
  },
  {
   "cell_type": "code",
   "execution_count": 28,
   "id": "3ac4f030",
   "metadata": {},
   "outputs": [
    {
     "data": {
      "text/plain": [
       "5"
      ]
     },
     "execution_count": 28,
     "metadata": {},
     "output_type": "execute_result"
    }
   ],
   "source": [
    "tree_successor(x=t.root.left).key"
   ]
  },
  {
   "cell_type": "code",
   "execution_count": 29,
   "id": "fd540199",
   "metadata": {},
   "outputs": [
    {
     "data": {
      "text/plain": [
       "8"
      ]
     },
     "execution_count": 29,
     "metadata": {},
     "output_type": "execute_result"
    }
   ],
   "source": [
    "tree_successor(x=t.root.right).key"
   ]
  },
  {
   "cell_type": "markdown",
   "id": "8154a6c2",
   "metadata": {},
   "source": [
    "# Predecessor\n",
    "\n",
    "Is symmetric to the TREE-SUCCESSOR. "
   ]
  },
  {
   "cell_type": "code",
   "execution_count": 49,
   "id": "838d1c5d",
   "metadata": {},
   "outputs": [],
   "source": [
    "def tree_predecessor(x: Node) -> Node | None:\n",
    "    if x.left != None:\n",
    "        return x.left # maximum in left subtree\n",
    "    else:\n",
    "        y = x.p\n",
    "        while y != None and x == y.left: # the lowest ancestor of x whose right child is also ancestor of x.\n",
    "            x = y\n",
    "            y = y.p\n",
    "        return y"
   ]
  },
  {
   "cell_type": "code",
   "execution_count": 50,
   "id": "816cf7f1",
   "metadata": {},
   "outputs": [
    {
     "name": "stdout",
     "output_type": "stream",
     "text": [
      "2\n",
      "5\n",
      "5\n",
      "6\n",
      "7\n",
      "8\n"
     ]
    }
   ],
   "source": [
    "inorder_tree_walk(t.root)"
   ]
  },
  {
   "cell_type": "code",
   "execution_count": 55,
   "id": "48fe133b",
   "metadata": {},
   "outputs": [
    {
     "data": {
      "text/plain": [
       "2"
      ]
     },
     "execution_count": 55,
     "metadata": {},
     "output_type": "execute_result"
    }
   ],
   "source": [
    "tree_predecessor(tree_search(t.root, 5)).key"
   ]
  },
  {
   "cell_type": "code",
   "execution_count": 56,
   "id": "cd82384a",
   "metadata": {},
   "outputs": [
    {
     "data": {
      "text/plain": [
       "6"
      ]
     },
     "execution_count": 56,
     "metadata": {},
     "output_type": "execute_result"
    }
   ],
   "source": [
    "tree_predecessor(tree_search(t.root, 7)).key"
   ]
  },
  {
   "cell_type": "code",
   "execution_count": 57,
   "id": "efa142fe",
   "metadata": {},
   "outputs": [
    {
     "data": {
      "text/plain": [
       "7"
      ]
     },
     "execution_count": 57,
     "metadata": {},
     "output_type": "execute_result"
    }
   ],
   "source": [
    "tree_predecessor(tree_search(t.root, 8)).key"
   ]
  },
  {
   "cell_type": "code",
   "execution_count": 61,
   "id": "8221c8cf",
   "metadata": {},
   "outputs": [
    {
     "data": {
      "text/plain": [
       "5"
      ]
     },
     "execution_count": 61,
     "metadata": {},
     "output_type": "execute_result"
    }
   ],
   "source": [
    "tree_predecessor(t.root).key"
   ]
  },
  {
   "cell_type": "markdown",
   "id": "c4eaf7f3",
   "metadata": {},
   "source": [
    "# Delete"
   ]
  },
  {
   "cell_type": "markdown",
   "id": "14f3903a",
   "metadata": {},
   "source": [
    "## Sub-rotina transplant\n",
    "\n",
    "![](imgs/transplant.png)"
   ]
  },
  {
   "cell_type": "code",
   "execution_count": 30,
   "id": "17732484",
   "metadata": {},
   "outputs": [],
   "source": [
    "def transplant(T: Tree, u: Node, v: Node) -> None:\n",
    "    \"\"\"\n",
    "    u = subtree rooted by node u\n",
    "    v = subtree rooted by node v\n",
    "    \n",
    "    transplant replaces u by v, in other words,\n",
    "    u's parent becomes node v's parent and v become\n",
    "    u's parent.\n",
    "    \"\"\"\n",
    "    if u.p == None: # root tree\n",
    "        T.root = v\n",
    "    elif u == u.p.left: # u is in the left side \n",
    "        u.p.left = v # u's parent now point in the left size to v\n",
    "    else: # u is in the right side\n",
    "        u.p.right = v # u's parent now point in the right size to v\n",
    "    if v != None:\n",
    "        v.p = u.p # v point to the old u's parent"
   ]
  },
  {
   "cell_type": "markdown",
   "id": "5814fb1e",
   "metadata": {},
   "source": [
    "## delete pseudocódigo\n",
    "\n",
    "![](imgs/tree-delete.png)"
   ]
  },
  {
   "cell_type": "code",
   "execution_count": 31,
   "id": "bdb84525",
   "metadata": {},
   "outputs": [],
   "source": [
    "def tree_delete(T: Tree, z=Node) -> None:\n",
    "    \"\"\"\n",
    "    z = node to be deleted in tree T.\n",
    "    \"\"\"\n",
    "    if z.left == None:\n",
    "        transplant(T, z, z.right)\n",
    "    if z.right == None:\n",
    "        transplant(T, z, z.left)\n",
    "    else:\n",
    "        y = minimum(z.right)\n",
    "        if y != z.right:\n",
    "            transplant(T, y, y.right)\n",
    "            y.right = z.right\n",
    "            y.right.p = y\n",
    "        transplant(T, z, y)\n",
    "        y.left = z.left\n",
    "        y.left.p = y"
   ]
  },
  {
   "cell_type": "code",
   "execution_count": 32,
   "id": "30209913",
   "metadata": {},
   "outputs": [],
   "source": [
    "tree_delete(t, t.root.left)"
   ]
  },
  {
   "cell_type": "code",
   "execution_count": 33,
   "id": "3ded1a5e",
   "metadata": {},
   "outputs": [
    {
     "name": "stdout",
     "output_type": "stream",
     "text": [
      "2\n",
      "5\n",
      "6\n",
      "7\n",
      "8\n"
     ]
    }
   ],
   "source": [
    "inorder_tree_walk(t.root)"
   ]
  },
  {
   "cell_type": "code",
   "execution_count": 34,
   "id": "2bbded3e",
   "metadata": {},
   "outputs": [
    {
     "data": {
      "text/plain": [
       "5"
      ]
     },
     "execution_count": 34,
     "metadata": {},
     "output_type": "execute_result"
    }
   ],
   "source": [
    "t.root.left.key"
   ]
  },
  {
   "cell_type": "code",
   "execution_count": 35,
   "id": "f5f83afa",
   "metadata": {},
   "outputs": [],
   "source": [
    "t.root.left.right"
   ]
  },
  {
   "cell_type": "code",
   "execution_count": 36,
   "id": "3b4d8d8e",
   "metadata": {},
   "outputs": [
    {
     "data": {
      "text/plain": [
       "2"
      ]
     },
     "execution_count": 36,
     "metadata": {},
     "output_type": "execute_result"
    }
   ],
   "source": [
    "t.root.left.left.key"
   ]
  },
  {
   "cell_type": "code",
   "execution_count": null,
   "id": "2eba330b",
   "metadata": {},
   "outputs": [],
   "source": []
  }
 ],
 "metadata": {
  "kernelspec": {
   "display_name": "Python 3 (ipykernel)",
   "language": "python",
   "name": "python3"
  },
  "language_info": {
   "codemirror_mode": {
    "name": "ipython",
    "version": 3
   },
   "file_extension": ".py",
   "mimetype": "text/x-python",
   "name": "python",
   "nbconvert_exporter": "python",
   "pygments_lexer": "ipython3",
   "version": "3.10.6"
  }
 },
 "nbformat": 4,
 "nbformat_minor": 5
}
